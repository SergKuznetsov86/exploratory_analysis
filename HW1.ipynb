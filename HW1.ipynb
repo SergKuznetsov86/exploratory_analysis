{
 "cells": [
  {
   "cell_type": "markdown",
   "metadata": {},
   "source": [
    "# Домашнее задание № 1"
   ]
  },
  {
   "cell_type": "markdown",
   "metadata": {},
   "source": [
    "### Выполнил Кузнецов С.И."
   ]
  },
  {
   "cell_type": "code",
   "execution_count": 1,
   "metadata": {},
   "outputs": [],
   "source": [
    "# Импортируем библиотеки\n",
    "\n",
    "import pandas as pd\n",
    "import numpy as np\n",
    "import matplotlib.pyplot as plt\n",
    "import seaborn as sns\n",
    "%matplotlib inline\n",
    "from datetime import datetime"
   ]
  },
  {
   "cell_type": "code",
   "execution_count": 2,
   "metadata": {},
   "outputs": [
    {
     "data": {
      "text/html": [
       "<div>\n",
       "<style scoped>\n",
       "    .dataframe tbody tr th:only-of-type {\n",
       "        vertical-align: middle;\n",
       "    }\n",
       "\n",
       "    .dataframe tbody tr th {\n",
       "        vertical-align: top;\n",
       "    }\n",
       "\n",
       "    .dataframe thead th {\n",
       "        text-align: right;\n",
       "    }\n",
       "</style>\n",
       "<table border=\"1\" class=\"dataframe\">\n",
       "  <thead>\n",
       "    <tr style=\"text-align: right;\">\n",
       "      <th></th>\n",
       "      <th>PERIOD</th>\n",
       "      <th>cl_id</th>\n",
       "      <th>MCC</th>\n",
       "      <th>channel_type</th>\n",
       "      <th>currency</th>\n",
       "      <th>TRDATETIME</th>\n",
       "      <th>amount</th>\n",
       "      <th>trx_category</th>\n",
       "      <th>target_flag</th>\n",
       "      <th>target_sum</th>\n",
       "    </tr>\n",
       "  </thead>\n",
       "  <tbody>\n",
       "    <tr>\n",
       "      <th>0</th>\n",
       "      <td>01/10/2017</td>\n",
       "      <td>0</td>\n",
       "      <td>5200</td>\n",
       "      <td>NaN</td>\n",
       "      <td>810</td>\n",
       "      <td>21OCT17:00:00:00</td>\n",
       "      <td>5023.0</td>\n",
       "      <td>POS</td>\n",
       "      <td>0</td>\n",
       "      <td>0.0</td>\n",
       "    </tr>\n",
       "    <tr>\n",
       "      <th>1</th>\n",
       "      <td>01/10/2017</td>\n",
       "      <td>0</td>\n",
       "      <td>6011</td>\n",
       "      <td>NaN</td>\n",
       "      <td>810</td>\n",
       "      <td>12OCT17:12:24:07</td>\n",
       "      <td>20000.0</td>\n",
       "      <td>DEPOSIT</td>\n",
       "      <td>0</td>\n",
       "      <td>0.0</td>\n",
       "    </tr>\n",
       "    <tr>\n",
       "      <th>2</th>\n",
       "      <td>01/12/2017</td>\n",
       "      <td>0</td>\n",
       "      <td>5921</td>\n",
       "      <td>NaN</td>\n",
       "      <td>810</td>\n",
       "      <td>05DEC17:00:00:00</td>\n",
       "      <td>767.0</td>\n",
       "      <td>POS</td>\n",
       "      <td>0</td>\n",
       "      <td>0.0</td>\n",
       "    </tr>\n",
       "    <tr>\n",
       "      <th>3</th>\n",
       "      <td>01/10/2017</td>\n",
       "      <td>0</td>\n",
       "      <td>5411</td>\n",
       "      <td>NaN</td>\n",
       "      <td>810</td>\n",
       "      <td>21OCT17:00:00:00</td>\n",
       "      <td>2031.0</td>\n",
       "      <td>POS</td>\n",
       "      <td>0</td>\n",
       "      <td>0.0</td>\n",
       "    </tr>\n",
       "    <tr>\n",
       "      <th>4</th>\n",
       "      <td>01/10/2017</td>\n",
       "      <td>0</td>\n",
       "      <td>6012</td>\n",
       "      <td>NaN</td>\n",
       "      <td>810</td>\n",
       "      <td>24OCT17:13:14:24</td>\n",
       "      <td>36562.0</td>\n",
       "      <td>C2C_OUT</td>\n",
       "      <td>0</td>\n",
       "      <td>0.0</td>\n",
       "    </tr>\n",
       "  </tbody>\n",
       "</table>\n",
       "</div>"
      ],
      "text/plain": [
       "       PERIOD  cl_id   MCC channel_type  currency        TRDATETIME   amount  \\\n",
       "0  01/10/2017      0  5200          NaN       810  21OCT17:00:00:00   5023.0   \n",
       "1  01/10/2017      0  6011          NaN       810  12OCT17:12:24:07  20000.0   \n",
       "2  01/12/2017      0  5921          NaN       810  05DEC17:00:00:00    767.0   \n",
       "3  01/10/2017      0  5411          NaN       810  21OCT17:00:00:00   2031.0   \n",
       "4  01/10/2017      0  6012          NaN       810  24OCT17:13:14:24  36562.0   \n",
       "\n",
       "  trx_category  target_flag  target_sum  \n",
       "0          POS            0         0.0  \n",
       "1      DEPOSIT            0         0.0  \n",
       "2          POS            0         0.0  \n",
       "3          POS            0         0.0  \n",
       "4      C2C_OUT            0         0.0  "
      ]
     },
     "execution_count": 2,
     "metadata": {},
     "output_type": "execute_result"
    }
   ],
   "source": [
    "# Импортируем исходный датафрейм\n",
    "raw_df = pd.read_csv('rosbank_train.csv')\n",
    "raw_df.head(5)"
   ]
  },
  {
   "cell_type": "code",
   "execution_count": 3,
   "metadata": {},
   "outputs": [
    {
     "name": "stdout",
     "output_type": "stream",
     "text": [
      "<class 'pandas.core.frame.DataFrame'>\n",
      "RangeIndex: 490513 entries, 0 to 490512\n",
      "Data columns (total 10 columns):\n",
      "PERIOD          490513 non-null object\n",
      "cl_id           490513 non-null int64\n",
      "MCC             490513 non-null int64\n",
      "channel_type    487603 non-null object\n",
      "currency        490513 non-null int64\n",
      "TRDATETIME      490513 non-null object\n",
      "amount          490513 non-null float64\n",
      "trx_category    490513 non-null object\n",
      "target_flag     490513 non-null int64\n",
      "target_sum      490513 non-null float64\n",
      "dtypes: float64(2), int64(4), object(4)\n",
      "memory usage: 37.4+ MB\n"
     ]
    }
   ],
   "source": [
    "raw_df.info()"
   ]
  },
  {
   "cell_type": "code",
   "execution_count": 4,
   "metadata": {},
   "outputs": [
    {
     "name": "stdout",
     "output_type": "stream",
     "text": [
      "Total clients:  5000\n"
     ]
    }
   ],
   "source": [
    "print(\"Total clients: \", len(raw_df.cl_id.unique()))"
   ]
  },
  {
   "cell_type": "markdown",
   "metadata": {},
   "source": [
    "Всего 5000 клиентов, случайным образом возьмем 1000 клиентов для тестирования"
   ]
  },
  {
   "cell_type": "code",
   "execution_count": 5,
   "metadata": {},
   "outputs": [],
   "source": [
    "cl_ids_test = np.random.choice(raw_df.cl_id.unique(), size=1000, replace=False)\n",
    "cl_ids_test_set = set(cl_ids_test)"
   ]
  },
  {
   "cell_type": "code",
   "execution_count": 6,
   "metadata": {
    "scrolled": true
   },
   "outputs": [
    {
     "name": "stdout",
     "output_type": "stream",
     "text": [
      "Total transactions in train dataset:  392963\n",
      "Total transactions in test dataset:  97550\n"
     ]
    }
   ],
   "source": [
    "# create transactions dataset for train\n",
    "transactions_train = raw_df[~raw_df.cl_id.isin(cl_ids_test)].copy()\n",
    "print(\"Total transactions in train dataset: \", len(transactions_train))\n",
    "# create transactions dataset for test\n",
    "transactions_test = raw_df[raw_df.cl_id.isin(cl_ids_test)].copy()\n",
    "print(\"Total transactions in test dataset: \", len(transactions_test))"
   ]
  },
  {
   "cell_type": "markdown",
   "metadata": {},
   "source": [
    "### Анализ MCC"
   ]
  },
  {
   "cell_type": "markdown",
   "metadata": {},
   "source": [
    "* Найдем наиболее популярные MCC"
   ]
  },
  {
   "cell_type": "code",
   "execution_count": 7,
   "metadata": {},
   "outputs": [
    {
     "data": {
      "text/plain": [
       "5411    24.75\n",
       "6011    10.99\n",
       "5814     8.38\n",
       "5812     6.17\n",
       "5499     5.54\n",
       "5541     4.07\n",
       "5912     3.83\n",
       "5999     2.65\n",
       "6012     2.02\n",
       "5921     1.76\n",
       "Name: MCC, dtype: float64"
      ]
     },
     "execution_count": 7,
     "metadata": {},
     "output_type": "execute_result"
    }
   ],
   "source": [
    "round(transactions_train['MCC'].value_counts(normalize = True, dropna = False) * 100, 2).head(10)"
   ]
  },
  {
   "cell_type": "markdown",
   "metadata": {},
   "source": [
    "* Составим словарь из наиболее популярных MCC и добавим к списку транзакций"
   ]
  },
  {
   "cell_type": "code",
   "execution_count": 9,
   "metadata": {
    "scrolled": true
   },
   "outputs": [
    {
     "data": {
      "text/html": [
       "<div>\n",
       "<style scoped>\n",
       "    .dataframe tbody tr th:only-of-type {\n",
       "        vertical-align: middle;\n",
       "    }\n",
       "\n",
       "    .dataframe tbody tr th {\n",
       "        vertical-align: top;\n",
       "    }\n",
       "\n",
       "    .dataframe thead th {\n",
       "        text-align: right;\n",
       "    }\n",
       "</style>\n",
       "<table border=\"1\" class=\"dataframe\">\n",
       "  <thead>\n",
       "    <tr style=\"text-align: right;\">\n",
       "      <th></th>\n",
       "      <th>PERIOD</th>\n",
       "      <th>cl_id</th>\n",
       "      <th>MCC</th>\n",
       "      <th>channel_type</th>\n",
       "      <th>currency</th>\n",
       "      <th>TRDATETIME</th>\n",
       "      <th>amount</th>\n",
       "      <th>trx_category</th>\n",
       "      <th>target_flag</th>\n",
       "      <th>target_sum</th>\n",
       "      <th>MCC_group</th>\n",
       "    </tr>\n",
       "  </thead>\n",
       "  <tbody>\n",
       "    <tr>\n",
       "      <th>5</th>\n",
       "      <td>01/10/2017</td>\n",
       "      <td>1</td>\n",
       "      <td>5814</td>\n",
       "      <td>NaN</td>\n",
       "      <td>810</td>\n",
       "      <td>16OCT17:00:00:00</td>\n",
       "      <td>380.0</td>\n",
       "      <td>POS</td>\n",
       "      <td>0</td>\n",
       "      <td>0.0</td>\n",
       "      <td>Fastfood</td>\n",
       "    </tr>\n",
       "    <tr>\n",
       "      <th>6</th>\n",
       "      <td>01/10/2017</td>\n",
       "      <td>1</td>\n",
       "      <td>5814</td>\n",
       "      <td>NaN</td>\n",
       "      <td>810</td>\n",
       "      <td>10OCT17:00:00:00</td>\n",
       "      <td>378.0</td>\n",
       "      <td>POS</td>\n",
       "      <td>0</td>\n",
       "      <td>0.0</td>\n",
       "      <td>Fastfood</td>\n",
       "    </tr>\n",
       "    <tr>\n",
       "      <th>7</th>\n",
       "      <td>01/10/2017</td>\n",
       "      <td>1</td>\n",
       "      <td>5814</td>\n",
       "      <td>NaN</td>\n",
       "      <td>810</td>\n",
       "      <td>16OCT17:00:00:00</td>\n",
       "      <td>199.0</td>\n",
       "      <td>POS</td>\n",
       "      <td>0</td>\n",
       "      <td>0.0</td>\n",
       "      <td>Fastfood</td>\n",
       "    </tr>\n",
       "    <tr>\n",
       "      <th>8</th>\n",
       "      <td>01/10/2017</td>\n",
       "      <td>1</td>\n",
       "      <td>5814</td>\n",
       "      <td>NaN</td>\n",
       "      <td>810</td>\n",
       "      <td>11OCT17:00:00:00</td>\n",
       "      <td>400.0</td>\n",
       "      <td>POS</td>\n",
       "      <td>0</td>\n",
       "      <td>0.0</td>\n",
       "      <td>Fastfood</td>\n",
       "    </tr>\n",
       "    <tr>\n",
       "      <th>9</th>\n",
       "      <td>01/07/2017</td>\n",
       "      <td>1</td>\n",
       "      <td>5411</td>\n",
       "      <td>NaN</td>\n",
       "      <td>810</td>\n",
       "      <td>26JUL17:00:00:00</td>\n",
       "      <td>598.0</td>\n",
       "      <td>POS</td>\n",
       "      <td>0</td>\n",
       "      <td>0.0</td>\n",
       "      <td>Supermarket</td>\n",
       "    </tr>\n",
       "    <tr>\n",
       "      <th>10</th>\n",
       "      <td>01/09/2017</td>\n",
       "      <td>1</td>\n",
       "      <td>4111</td>\n",
       "      <td>NaN</td>\n",
       "      <td>978</td>\n",
       "      <td>30SEP17:00:00:00</td>\n",
       "      <td>17.1</td>\n",
       "      <td>POS</td>\n",
       "      <td>0</td>\n",
       "      <td>0.0</td>\n",
       "      <td>Other</td>\n",
       "    </tr>\n",
       "    <tr>\n",
       "      <th>11</th>\n",
       "      <td>01/08/2017</td>\n",
       "      <td>1</td>\n",
       "      <td>5814</td>\n",
       "      <td>NaN</td>\n",
       "      <td>810</td>\n",
       "      <td>02AUG17:00:00:00</td>\n",
       "      <td>450.0</td>\n",
       "      <td>POS</td>\n",
       "      <td>0</td>\n",
       "      <td>0.0</td>\n",
       "      <td>Fastfood</td>\n",
       "    </tr>\n",
       "    <tr>\n",
       "      <th>12</th>\n",
       "      <td>01/10/2017</td>\n",
       "      <td>1</td>\n",
       "      <td>5812</td>\n",
       "      <td>NaN</td>\n",
       "      <td>978</td>\n",
       "      <td>01OCT17:00:00:00</td>\n",
       "      <td>21.0</td>\n",
       "      <td>POS</td>\n",
       "      <td>0</td>\n",
       "      <td>0.0</td>\n",
       "      <td>Restaurant</td>\n",
       "    </tr>\n",
       "    <tr>\n",
       "      <th>13</th>\n",
       "      <td>01/07/2017</td>\n",
       "      <td>1</td>\n",
       "      <td>5814</td>\n",
       "      <td>NaN</td>\n",
       "      <td>810</td>\n",
       "      <td>31JUL17:00:00:00</td>\n",
       "      <td>720.0</td>\n",
       "      <td>POS</td>\n",
       "      <td>0</td>\n",
       "      <td>0.0</td>\n",
       "      <td>Fastfood</td>\n",
       "    </tr>\n",
       "    <tr>\n",
       "      <th>14</th>\n",
       "      <td>01/10/2017</td>\n",
       "      <td>1</td>\n",
       "      <td>5814</td>\n",
       "      <td>NaN</td>\n",
       "      <td>810</td>\n",
       "      <td>08OCT17:00:00:00</td>\n",
       "      <td>5988.8</td>\n",
       "      <td>POS</td>\n",
       "      <td>0</td>\n",
       "      <td>0.0</td>\n",
       "      <td>Fastfood</td>\n",
       "    </tr>\n",
       "  </tbody>\n",
       "</table>\n",
       "</div>"
      ],
      "text/plain": [
       "        PERIOD  cl_id   MCC channel_type  currency        TRDATETIME  amount  \\\n",
       "5   01/10/2017      1  5814          NaN       810  16OCT17:00:00:00   380.0   \n",
       "6   01/10/2017      1  5814          NaN       810  10OCT17:00:00:00   378.0   \n",
       "7   01/10/2017      1  5814          NaN       810  16OCT17:00:00:00   199.0   \n",
       "8   01/10/2017      1  5814          NaN       810  11OCT17:00:00:00   400.0   \n",
       "9   01/07/2017      1  5411          NaN       810  26JUL17:00:00:00   598.0   \n",
       "10  01/09/2017      1  4111          NaN       978  30SEP17:00:00:00    17.1   \n",
       "11  01/08/2017      1  5814          NaN       810  02AUG17:00:00:00   450.0   \n",
       "12  01/10/2017      1  5812          NaN       978  01OCT17:00:00:00    21.0   \n",
       "13  01/07/2017      1  5814          NaN       810  31JUL17:00:00:00   720.0   \n",
       "14  01/10/2017      1  5814          NaN       810  08OCT17:00:00:00  5988.8   \n",
       "\n",
       "   trx_category  target_flag  target_sum    MCC_group  \n",
       "5           POS            0         0.0     Fastfood  \n",
       "6           POS            0         0.0     Fastfood  \n",
       "7           POS            0         0.0     Fastfood  \n",
       "8           POS            0         0.0     Fastfood  \n",
       "9           POS            0         0.0  Supermarket  \n",
       "10          POS            0         0.0        Other  \n",
       "11          POS            0         0.0     Fastfood  \n",
       "12          POS            0         0.0   Restaurant  \n",
       "13          POS            0         0.0     Fastfood  \n",
       "14          POS            0         0.0     Fastfood  "
      ]
     },
     "execution_count": 9,
     "metadata": {},
     "output_type": "execute_result"
    }
   ],
   "source": [
    "MCC_dict = {\n",
    "    5411: 'Supermarket',\n",
    "    6011: 'ATM',\n",
    "    5814: 'Fastfood',\n",
    "    5812: 'Restaurant',\n",
    "    5499: 'Grocery_store',\n",
    "    5541: 'Service_station',\n",
    "    5912: 'Pharmacy',\n",
    "    5999: 'Shop',\n",
    "    6012: 'Finance'\n",
    "}\n",
    "transactions_train['MCC_group'] = transactions_train['MCC'].apply(lambda x : MCC_dict.get(x, 'Other'))\n",
    "transactions_train.head(10)"
   ]
  },
  {
   "cell_type": "markdown",
   "metadata": {},
   "source": [
    "### Анализ времени совершения транзакций"
   ]
  },
  {
   "cell_type": "markdown",
   "metadata": {},
   "source": [
    "* Построим распределение транзакций по часам"
   ]
  },
  {
   "cell_type": "code",
   "execution_count": 10,
   "metadata": {},
   "outputs": [
    {
     "data": {
      "image/png": "[encoded data removed]",
      "text/plain": [
       "<Figure size 432x288 with 1 Axes>"
      ]
     },
     "metadata": {
      "needs_background": "light"
     },
     "output_type": "display_data"
    }
   ],
   "source": [
    "transactions_train['Hour'] = transactions_train['TRDATETIME'].apply(lambda x:\n",
    "                                           int(datetime.strptime(x, '%d%b%y:%H:%M:%S').strftime('%H'))\n",
    "                                          )\n",
    "_ = transactions_train['Hour'].hist()"
   ]
  },
  {
   "cell_type": "markdown",
   "metadata": {},
   "source": [
    "* Очевидно, что если время транзакции неизвестно, то проставляется *00:00:00*.\n",
    "Построим распределение по часам, если время транзакции известно."
   ]
  },
  {
   "cell_type": "code",
   "execution_count": 11,
   "metadata": {
    "scrolled": true
   },
   "outputs": [
    {
     "data": {
      "image/png": "[encoded data removed]",
      "text/plain": [
       "<Figure size 432x288 with 1 Axes>"
      ]
     },
     "metadata": {
      "needs_background": "light"
     },
     "output_type": "display_data"
    }
   ],
   "source": [
    "_ = transactions_train[transactions_train['Hour'] != 0]['Hour'].hist(bins = 23, density = True)"
   ]
  },
  {
   "cell_type": "markdown",
   "metadata": {},
   "source": [
    "* Для выбора временных диапазонов рассчитаем квартили"
   ]
  },
  {
   "cell_type": "code",
   "execution_count": 14,
   "metadata": {},
   "outputs": [
    {
     "data": {
      "text/plain": [
       "array([10., 17.])"
      ]
     },
     "execution_count": 14,
     "metadata": {},
     "output_type": "execute_result"
    }
   ],
   "source": [
    "np.quantile(transactions_train[transactions_train['Hour'] != 0]['Hour'], [.25, .75])"
   ]
  },
  {
   "cell_type": "code",
   "execution_count": 15,
   "metadata": {},
   "outputs": [],
   "source": [
    "def get_period(hour):\n",
    "    '''Возвращает временной диапазон, в который попало время time'''\n",
    "    if hour == 0:\n",
    "        return 'Not Available'\n",
    "    elif 1 <= hour < 11:\n",
    "        return 'From_1_to_10'\n",
    "    elif 11 <= hour < 18:\n",
    "        return 'From_11_to_18'\n",
    "    elif 19 <= hour <= 23:\n",
    "        return 'From_19_to_23'"
   ]
  },
  {
   "cell_type": "markdown",
   "metadata": {},
   "source": [
    "* Добавим временной диапазон к датасету"
   ]
  },
  {
   "cell_type": "code",
   "execution_count": 16,
   "metadata": {},
   "outputs": [
    {
     "data": {
      "text/html": [
       "<div>\n",
       "<style scoped>\n",
       "    .dataframe tbody tr th:only-of-type {\n",
       "        vertical-align: middle;\n",
       "    }\n",
       "\n",
       "    .dataframe tbody tr th {\n",
       "        vertical-align: top;\n",
       "    }\n",
       "\n",
       "    .dataframe thead th {\n",
       "        text-align: right;\n",
       "    }\n",
       "</style>\n",
       "<table border=\"1\" class=\"dataframe\">\n",
       "  <thead>\n",
       "    <tr style=\"text-align: right;\">\n",
       "      <th></th>\n",
       "      <th>PERIOD</th>\n",
       "      <th>cl_id</th>\n",
       "      <th>MCC</th>\n",
       "      <th>channel_type</th>\n",
       "      <th>currency</th>\n",
       "      <th>TRDATETIME</th>\n",
       "      <th>amount</th>\n",
       "      <th>trx_category</th>\n",
       "      <th>target_flag</th>\n",
       "      <th>target_sum</th>\n",
       "      <th>MCC_group</th>\n",
       "      <th>Hour</th>\n",
       "      <th>Period</th>\n",
       "    </tr>\n",
       "  </thead>\n",
       "  <tbody>\n",
       "    <tr>\n",
       "      <th>67</th>\n",
       "      <td>01/09/2017</td>\n",
       "      <td>1</td>\n",
       "      <td>6011</td>\n",
       "      <td>NaN</td>\n",
       "      <td>810</td>\n",
       "      <td>24SEP17:19:24:03</td>\n",
       "      <td>45000.0</td>\n",
       "      <td>DEPOSIT</td>\n",
       "      <td>0</td>\n",
       "      <td>0.00</td>\n",
       "      <td>ATM</td>\n",
       "      <td>19</td>\n",
       "      <td>From_19_to_23</td>\n",
       "    </tr>\n",
       "    <tr>\n",
       "      <th>92</th>\n",
       "      <td>01/07/2017</td>\n",
       "      <td>1</td>\n",
       "      <td>6011</td>\n",
       "      <td>NaN</td>\n",
       "      <td>810</td>\n",
       "      <td>25JUL17:20:06:04</td>\n",
       "      <td>50000.0</td>\n",
       "      <td>WD_ATM_ROS</td>\n",
       "      <td>0</td>\n",
       "      <td>0.00</td>\n",
       "      <td>ATM</td>\n",
       "      <td>20</td>\n",
       "      <td>From_19_to_23</td>\n",
       "    </tr>\n",
       "    <tr>\n",
       "      <th>95</th>\n",
       "      <td>01/09/2017</td>\n",
       "      <td>1</td>\n",
       "      <td>6011</td>\n",
       "      <td>NaN</td>\n",
       "      <td>810</td>\n",
       "      <td>24SEP17:19:22:56</td>\n",
       "      <td>50000.0</td>\n",
       "      <td>DEPOSIT</td>\n",
       "      <td>0</td>\n",
       "      <td>0.00</td>\n",
       "      <td>ATM</td>\n",
       "      <td>19</td>\n",
       "      <td>From_19_to_23</td>\n",
       "    </tr>\n",
       "    <tr>\n",
       "      <th>127</th>\n",
       "      <td>01/04/2017</td>\n",
       "      <td>5</td>\n",
       "      <td>6011</td>\n",
       "      <td>NaN</td>\n",
       "      <td>810</td>\n",
       "      <td>06APR17:17:03:05</td>\n",
       "      <td>30000.0</td>\n",
       "      <td>DEPOSIT</td>\n",
       "      <td>1</td>\n",
       "      <td>326211.75</td>\n",
       "      <td>ATM</td>\n",
       "      <td>17</td>\n",
       "      <td>From_11_to_18</td>\n",
       "    </tr>\n",
       "    <tr>\n",
       "      <th>139</th>\n",
       "      <td>01/04/2017</td>\n",
       "      <td>5</td>\n",
       "      <td>6011</td>\n",
       "      <td>NaN</td>\n",
       "      <td>810</td>\n",
       "      <td>10APR17:13:02:06</td>\n",
       "      <td>3000.0</td>\n",
       "      <td>WD_ATM_ROS</td>\n",
       "      <td>1</td>\n",
       "      <td>326211.75</td>\n",
       "      <td>ATM</td>\n",
       "      <td>13</td>\n",
       "      <td>From_11_to_18</td>\n",
       "    </tr>\n",
       "  </tbody>\n",
       "</table>\n",
       "</div>"
      ],
      "text/plain": [
       "         PERIOD  cl_id   MCC channel_type  currency        TRDATETIME  \\\n",
       "67   01/09/2017      1  6011          NaN       810  24SEP17:19:24:03   \n",
       "92   01/07/2017      1  6011          NaN       810  25JUL17:20:06:04   \n",
       "95   01/09/2017      1  6011          NaN       810  24SEP17:19:22:56   \n",
       "127  01/04/2017      5  6011          NaN       810  06APR17:17:03:05   \n",
       "139  01/04/2017      5  6011          NaN       810  10APR17:13:02:06   \n",
       "\n",
       "      amount trx_category  target_flag  target_sum MCC_group  Hour  \\\n",
       "67   45000.0      DEPOSIT            0        0.00       ATM    19   \n",
       "92   50000.0   WD_ATM_ROS            0        0.00       ATM    20   \n",
       "95   50000.0      DEPOSIT            0        0.00       ATM    19   \n",
       "127  30000.0      DEPOSIT            1   326211.75       ATM    17   \n",
       "139   3000.0   WD_ATM_ROS            1   326211.75       ATM    13   \n",
       "\n",
       "            Period  \n",
       "67   From_19_to_23  \n",
       "92   From_19_to_23  \n",
       "95   From_19_to_23  \n",
       "127  From_11_to_18  \n",
       "139  From_11_to_18  "
      ]
     },
     "execution_count": 16,
     "metadata": {},
     "output_type": "execute_result"
    }
   ],
   "source": [
    "transactions_train['Period'] = transactions_train.Hour.apply(get_period)\n",
    "transactions_train[transactions_train['Hour'] != 0].head()"
   ]
  },
  {
   "cell_type": "markdown",
   "metadata": {},
   "source": [
    "* Добавим день недели к транзакциям"
   ]
  },
  {
   "cell_type": "code",
   "execution_count": 17,
   "metadata": {
    "scrolled": true
   },
   "outputs": [
    {
     "data": {
      "text/html": [
       "<div>\n",
       "<style scoped>\n",
       "    .dataframe tbody tr th:only-of-type {\n",
       "        vertical-align: middle;\n",
       "    }\n",
       "\n",
       "    .dataframe tbody tr th {\n",
       "        vertical-align: top;\n",
       "    }\n",
       "\n",
       "    .dataframe thead th {\n",
       "        text-align: right;\n",
       "    }\n",
       "</style>\n",
       "<table border=\"1\" class=\"dataframe\">\n",
       "  <thead>\n",
       "    <tr style=\"text-align: right;\">\n",
       "      <th></th>\n",
       "      <th>PERIOD</th>\n",
       "      <th>cl_id</th>\n",
       "      <th>MCC</th>\n",
       "      <th>channel_type</th>\n",
       "      <th>currency</th>\n",
       "      <th>TRDATETIME</th>\n",
       "      <th>amount</th>\n",
       "      <th>trx_category</th>\n",
       "      <th>target_flag</th>\n",
       "      <th>target_sum</th>\n",
       "      <th>MCC_group</th>\n",
       "      <th>Hour</th>\n",
       "      <th>Period</th>\n",
       "      <th>Weekday</th>\n",
       "    </tr>\n",
       "  </thead>\n",
       "  <tbody>\n",
       "    <tr>\n",
       "      <th>5</th>\n",
       "      <td>01/10/2017</td>\n",
       "      <td>1</td>\n",
       "      <td>5814</td>\n",
       "      <td>NaN</td>\n",
       "      <td>810</td>\n",
       "      <td>16OCT17:00:00:00</td>\n",
       "      <td>380.0</td>\n",
       "      <td>POS</td>\n",
       "      <td>0</td>\n",
       "      <td>0.0</td>\n",
       "      <td>Fastfood</td>\n",
       "      <td>0</td>\n",
       "      <td>Not Available</td>\n",
       "      <td>Monday</td>\n",
       "    </tr>\n",
       "    <tr>\n",
       "      <th>6</th>\n",
       "      <td>01/10/2017</td>\n",
       "      <td>1</td>\n",
       "      <td>5814</td>\n",
       "      <td>NaN</td>\n",
       "      <td>810</td>\n",
       "      <td>10OCT17:00:00:00</td>\n",
       "      <td>378.0</td>\n",
       "      <td>POS</td>\n",
       "      <td>0</td>\n",
       "      <td>0.0</td>\n",
       "      <td>Fastfood</td>\n",
       "      <td>0</td>\n",
       "      <td>Not Available</td>\n",
       "      <td>Tuesday</td>\n",
       "    </tr>\n",
       "    <tr>\n",
       "      <th>7</th>\n",
       "      <td>01/10/2017</td>\n",
       "      <td>1</td>\n",
       "      <td>5814</td>\n",
       "      <td>NaN</td>\n",
       "      <td>810</td>\n",
       "      <td>16OCT17:00:00:00</td>\n",
       "      <td>199.0</td>\n",
       "      <td>POS</td>\n",
       "      <td>0</td>\n",
       "      <td>0.0</td>\n",
       "      <td>Fastfood</td>\n",
       "      <td>0</td>\n",
       "      <td>Not Available</td>\n",
       "      <td>Monday</td>\n",
       "    </tr>\n",
       "    <tr>\n",
       "      <th>8</th>\n",
       "      <td>01/10/2017</td>\n",
       "      <td>1</td>\n",
       "      <td>5814</td>\n",
       "      <td>NaN</td>\n",
       "      <td>810</td>\n",
       "      <td>11OCT17:00:00:00</td>\n",
       "      <td>400.0</td>\n",
       "      <td>POS</td>\n",
       "      <td>0</td>\n",
       "      <td>0.0</td>\n",
       "      <td>Fastfood</td>\n",
       "      <td>0</td>\n",
       "      <td>Not Available</td>\n",
       "      <td>Wednesday</td>\n",
       "    </tr>\n",
       "    <tr>\n",
       "      <th>9</th>\n",
       "      <td>01/07/2017</td>\n",
       "      <td>1</td>\n",
       "      <td>5411</td>\n",
       "      <td>NaN</td>\n",
       "      <td>810</td>\n",
       "      <td>26JUL17:00:00:00</td>\n",
       "      <td>598.0</td>\n",
       "      <td>POS</td>\n",
       "      <td>0</td>\n",
       "      <td>0.0</td>\n",
       "      <td>Supermarket</td>\n",
       "      <td>0</td>\n",
       "      <td>Not Available</td>\n",
       "      <td>Wednesday</td>\n",
       "    </tr>\n",
       "    <tr>\n",
       "      <th>10</th>\n",
       "      <td>01/09/2017</td>\n",
       "      <td>1</td>\n",
       "      <td>4111</td>\n",
       "      <td>NaN</td>\n",
       "      <td>978</td>\n",
       "      <td>30SEP17:00:00:00</td>\n",
       "      <td>17.1</td>\n",
       "      <td>POS</td>\n",
       "      <td>0</td>\n",
       "      <td>0.0</td>\n",
       "      <td>Other</td>\n",
       "      <td>0</td>\n",
       "      <td>Not Available</td>\n",
       "      <td>Saturday</td>\n",
       "    </tr>\n",
       "    <tr>\n",
       "      <th>11</th>\n",
       "      <td>01/08/2017</td>\n",
       "      <td>1</td>\n",
       "      <td>5814</td>\n",
       "      <td>NaN</td>\n",
       "      <td>810</td>\n",
       "      <td>02AUG17:00:00:00</td>\n",
       "      <td>450.0</td>\n",
       "      <td>POS</td>\n",
       "      <td>0</td>\n",
       "      <td>0.0</td>\n",
       "      <td>Fastfood</td>\n",
       "      <td>0</td>\n",
       "      <td>Not Available</td>\n",
       "      <td>Wednesday</td>\n",
       "    </tr>\n",
       "    <tr>\n",
       "      <th>12</th>\n",
       "      <td>01/10/2017</td>\n",
       "      <td>1</td>\n",
       "      <td>5812</td>\n",
       "      <td>NaN</td>\n",
       "      <td>978</td>\n",
       "      <td>01OCT17:00:00:00</td>\n",
       "      <td>21.0</td>\n",
       "      <td>POS</td>\n",
       "      <td>0</td>\n",
       "      <td>0.0</td>\n",
       "      <td>Restaurant</td>\n",
       "      <td>0</td>\n",
       "      <td>Not Available</td>\n",
       "      <td>Sunday</td>\n",
       "    </tr>\n",
       "    <tr>\n",
       "      <th>13</th>\n",
       "      <td>01/07/2017</td>\n",
       "      <td>1</td>\n",
       "      <td>5814</td>\n",
       "      <td>NaN</td>\n",
       "      <td>810</td>\n",
       "      <td>31JUL17:00:00:00</td>\n",
       "      <td>720.0</td>\n",
       "      <td>POS</td>\n",
       "      <td>0</td>\n",
       "      <td>0.0</td>\n",
       "      <td>Fastfood</td>\n",
       "      <td>0</td>\n",
       "      <td>Not Available</td>\n",
       "      <td>Monday</td>\n",
       "    </tr>\n",
       "    <tr>\n",
       "      <th>14</th>\n",
       "      <td>01/10/2017</td>\n",
       "      <td>1</td>\n",
       "      <td>5814</td>\n",
       "      <td>NaN</td>\n",
       "      <td>810</td>\n",
       "      <td>08OCT17:00:00:00</td>\n",
       "      <td>5988.8</td>\n",
       "      <td>POS</td>\n",
       "      <td>0</td>\n",
       "      <td>0.0</td>\n",
       "      <td>Fastfood</td>\n",
       "      <td>0</td>\n",
       "      <td>Not Available</td>\n",
       "      <td>Sunday</td>\n",
       "    </tr>\n",
       "  </tbody>\n",
       "</table>\n",
       "</div>"
      ],
      "text/plain": [
       "        PERIOD  cl_id   MCC channel_type  currency        TRDATETIME  amount  \\\n",
       "5   01/10/2017      1  5814          NaN       810  16OCT17:00:00:00   380.0   \n",
       "6   01/10/2017      1  5814          NaN       810  10OCT17:00:00:00   378.0   \n",
       "7   01/10/2017      1  5814          NaN       810  16OCT17:00:00:00   199.0   \n",
       "8   01/10/2017      1  5814          NaN       810  11OCT17:00:00:00   400.0   \n",
       "9   01/07/2017      1  5411          NaN       810  26JUL17:00:00:00   598.0   \n",
       "10  01/09/2017      1  4111          NaN       978  30SEP17:00:00:00    17.1   \n",
       "11  01/08/2017      1  5814          NaN       810  02AUG17:00:00:00   450.0   \n",
       "12  01/10/2017      1  5812          NaN       978  01OCT17:00:00:00    21.0   \n",
       "13  01/07/2017      1  5814          NaN       810  31JUL17:00:00:00   720.0   \n",
       "14  01/10/2017      1  5814          NaN       810  08OCT17:00:00:00  5988.8   \n",
       "\n",
       "   trx_category  target_flag  target_sum    MCC_group  Hour         Period  \\\n",
       "5           POS            0         0.0     Fastfood     0  Not Available   \n",
       "6           POS            0         0.0     Fastfood     0  Not Available   \n",
       "7           POS            0         0.0     Fastfood     0  Not Available   \n",
       "8           POS            0         0.0     Fastfood     0  Not Available   \n",
       "9           POS            0         0.0  Supermarket     0  Not Available   \n",
       "10          POS            0         0.0        Other     0  Not Available   \n",
       "11          POS            0         0.0     Fastfood     0  Not Available   \n",
       "12          POS            0         0.0   Restaurant     0  Not Available   \n",
       "13          POS            0         0.0     Fastfood     0  Not Available   \n",
       "14          POS            0         0.0     Fastfood     0  Not Available   \n",
       "\n",
       "      Weekday  \n",
       "5      Monday  \n",
       "6     Tuesday  \n",
       "7      Monday  \n",
       "8   Wednesday  \n",
       "9   Wednesday  \n",
       "10   Saturday  \n",
       "11  Wednesday  \n",
       "12     Sunday  \n",
       "13     Monday  \n",
       "14     Sunday  "
      ]
     },
     "execution_count": 17,
     "metadata": {},
     "output_type": "execute_result"
    }
   ],
   "source": [
    "transactions_train['Weekday'] = transactions_train['TRDATETIME'].apply(lambda x:\n",
    "                                           datetime.strptime(x, '%d%b%y:%H:%M:%S').strftime('%A')\n",
    "                                          )\n",
    "transactions_train.head(10)"
   ]
  },
  {
   "cell_type": "code",
   "execution_count": 19,
   "metadata": {},
   "outputs": [
    {
     "data": {
      "text/plain": [
       "Friday       0.160954\n",
       "Saturday     0.151617\n",
       "Thursday     0.145250\n",
       "Wednesday    0.141512\n",
       "Tuesday      0.140023\n",
       "Monday       0.134203\n",
       "Sunday       0.126439\n",
       "Name: Weekday, dtype: float64"
      ]
     },
     "execution_count": 19,
     "metadata": {},
     "output_type": "execute_result"
    }
   ],
   "source": [
    "transactions_train.Weekday.value_counts(normalize = True)"
   ]
  },
  {
   "cell_type": "markdown",
   "metadata": {},
   "source": [
    "### Анализ типов каналов"
   ]
  },
  {
   "cell_type": "markdown",
   "metadata": {},
   "source": [
    "* Посчитаем распределение по типам каналов"
   ]
  },
  {
   "cell_type": "code",
   "execution_count": 20,
   "metadata": {
    "scrolled": true
   },
   "outputs": [
    {
     "data": {
      "text/plain": [
       "type1            0.611236\n",
       "type2            0.353471\n",
       "type5            0.012149\n",
       "type4            0.009665\n",
       "type3            0.006817\n",
       "Not_Available    0.006662\n",
       "Name: channel_type, dtype: float64"
      ]
     },
     "execution_count": 20,
     "metadata": {},
     "output_type": "execute_result"
    }
   ],
   "source": [
    "transactions_train.channel_type.fillna('Not_Available').value_counts(normalize = True)"
   ]
  },
  {
   "cell_type": "markdown",
   "metadata": {},
   "source": [
    "### Анализ trx-категорий"
   ]
  },
  {
   "cell_type": "markdown",
   "metadata": {},
   "source": [
    "* Распределение по trx-категориям"
   ]
  },
  {
   "cell_type": "code",
   "execution_count": 21,
   "metadata": {
    "scrolled": true
   },
   "outputs": [
    {
     "data": {
      "text/plain": [
       "POS               334317\n",
       "DEPOSIT            17285\n",
       "WD_ATM_ROS         15022\n",
       "WD_ATM_PARTNER      7695\n",
       "WD_ATM_OTHER        5583\n",
       "C2C_IN              5557\n",
       "C2C_OUT             4395\n",
       "BACK_TRX            2118\n",
       "CAT                  962\n",
       "CASH_ADV              29\n",
       "Name: trx_category, dtype: int64"
      ]
     },
     "execution_count": 21,
     "metadata": {},
     "output_type": "execute_result"
    }
   ],
   "source": [
    "transactions_train.trx_category.fillna('Not_Available').value_counts()"
   ]
  },
  {
   "cell_type": "markdown",
   "metadata": {},
   "source": [
    "### Построим сочетания категорий"
   ]
  },
  {
   "cell_type": "markdown",
   "metadata": {},
   "source": [
    "**Примечание:** В связи с тем, что количество сочетаний категорий достаточно велико, привожу здесь только наиболее интересные с моей точки зрения категории."
   ]
  },
  {
   "cell_type": "markdown",
   "metadata": {},
   "source": [
    "* Время и день недели"
   ]
  },
  {
   "cell_type": "code",
   "execution_count": 22,
   "metadata": {},
   "outputs": [
    {
     "data": {
      "image/png": "[encoded data removed]",
      "text/plain": [
       "<Figure size 720x216 with 2 Axes>"
      ]
     },
     "metadata": {
      "needs_background": "light"
     },
     "output_type": "display_data"
    }
   ],
   "source": [
    "day_month_pivot = transactions_train[transactions_train['Hour'] != 0].pivot_table(index = 'Period',\n",
    "                                                                                  columns = 'Weekday',\n",
    "                                                                                  values = 'amount',\n",
    "                                                                                  aggfunc = 'count',\n",
    "                                                                                  fill_value = 0)\n",
    "plt.figure(figsize=(10,3))\n",
    "\n",
    "_ = sns.heatmap(day_month_pivot, \n",
    "                annot=True,\n",
    "                xticklabels=day_month_pivot.columns.values, \n",
    "                yticklabels=day_month_pivot.index.values,          \n",
    "                fmt=\"d\")"
   ]
  },
  {
   "cell_type": "markdown",
   "metadata": {},
   "source": [
    "* Видно, что больше всего транзакций совершалось в пятницу с 11:00 до 18:00. Сделаем отдельную категорию \"Пятница с 11:00 до 18:00\""
   ]
  },
  {
   "cell_type": "code",
   "execution_count": 23,
   "metadata": {
    "scrolled": true
   },
   "outputs": [
    {
     "data": {
      "text/plain": [
       "Other_time              388502\n",
       "Friday_from_11_to_18      4461\n",
       "Name: WeekTime, dtype: int64"
      ]
     },
     "execution_count": 23,
     "metadata": {},
     "output_type": "execute_result"
    }
   ],
   "source": [
    "transactions_train['WeekTime'] = transactions_train.apply(\n",
    "    lambda x: 'Friday_from_11_to_18' if x['Period'] == 'From_11_to_18' and x['Weekday'] == 'Friday' else 'Other_time',\n",
    "    axis = 1\n",
    ")\n",
    "transactions_train.WeekTime.value_counts()"
   ]
  },
  {
   "cell_type": "markdown",
   "metadata": {},
   "source": [
    "* Проверим сочетание trx_category и MCC"
   ]
  },
  {
   "cell_type": "code",
   "execution_count": 25,
   "metadata": {
    "scrolled": true
   },
   "outputs": [
    {
     "data": {
      "text/plain": [
       "<matplotlib.axes._subplots.AxesSubplot at 0x7fd147481eb8>"
      ]
     },
     "execution_count": 25,
     "metadata": {},
     "output_type": "execute_result"
    },
    {
     "data": {
      "image/png": "[encoded data removed]",
      "text/plain": [
       "<Figure size 1440x216 with 2 Axes>"
      ]
     },
     "metadata": {
      "needs_background": "light"
     },
     "output_type": "display_data"
    }
   ],
   "source": [
    "day_month_pivot = transactions_train.pivot_table(index = 'trx_category',\n",
    "                                                 columns = 'MCC_group',\n",
    "                                                 values = 'amount',\n",
    "                                                 aggfunc = 'sum',\n",
    "                                                 fill_value = 0)\n",
    "plt.figure(figsize=(20,3))\n",
    "\n",
    "sns.heatmap(day_month_pivot, \n",
    "            annot=True, \n",
    "            xticklabels=day_month_pivot.columns.values, \n",
    "            yticklabels=day_month_pivot.index.values,\n",
    "           fmt=\".2f\")"
   ]
  },
  {
   "cell_type": "markdown",
   "metadata": {},
   "source": [
    "* Видим несколько категорий, связанных с ATM. Добавим сочетания в датасет."
   ]
  },
  {
   "cell_type": "code",
   "execution_count": 36,
   "metadata": {},
   "outputs": [
    {
     "data": {
      "text/plain": [
       "Other                 349779\n",
       "ATM_WD_ATM_ROS         15022\n",
       "ATM_DEPOSIT            14807\n",
       "ATM_WD_ATM_PARTNER      7695\n",
       "ATM_WD_ATM_OTHER        5583\n",
       "ATM_BACK_TRX              77\n",
       "Name: MCC_trx, dtype: int64"
      ]
     },
     "execution_count": 36,
     "metadata": {},
     "output_type": "execute_result"
    }
   ],
   "source": [
    "transactions_train['MCC_trx'] = transactions_train.apply(\n",
    "    lambda x: x['MCC_group'] + '_' + x['trx_category'] if x['MCC_group'] == 'ATM' else 'Other',\n",
    "    axis = 1\n",
    ")\n",
    "transactions_train.MCC_trx.value_counts()"
   ]
  },
  {
   "cell_type": "code",
   "execution_count": 34,
   "metadata": {
    "scrolled": true
   },
   "outputs": [
    {
     "data": {
      "image/png": "[encoded data removed]",
      "text/plain": [
       "<Figure size 1440x360 with 2 Axes>"
      ]
     },
     "metadata": {
      "needs_background": "light"
     },
     "output_type": "display_data"
    }
   ],
   "source": [
    "day_month_pivot = transactions_train.pivot_table(index = 'MCC_group',\n",
    "                                                 columns = 'Weekday',\n",
    "                                                 values = 'amount',\n",
    "                                                 aggfunc = 'count',\n",
    "                                                 fill_value = 0)\n",
    "plt.figure(figsize=(20, 5))\n",
    "\n",
    "_ = sns.heatmap(day_month_pivot, \n",
    "                annot=True, \n",
    "                xticklabels=day_month_pivot.columns.values, \n",
    "                yticklabels=day_month_pivot.index.values,\n",
    "                fmt=\".2f\")"
   ]
  },
  {
   "cell_type": "markdown",
   "metadata": {},
   "source": [
    "* Здесь наиболее интересно сочетание количества покупок в супермаркете по дням недели"
   ]
  },
  {
   "cell_type": "code",
   "execution_count": 40,
   "metadata": {},
   "outputs": [
    {
     "data": {
      "text/plain": [
       "Other                    0.752458\n",
       "Supermarket_Saturday     0.041131\n",
       "Supermarket_Friday       0.038866\n",
       "Supermarket_Sunday       0.035255\n",
       "Supermarket_Thursday     0.034230\n",
       "Supermarket_Tuesday      0.033398\n",
       "Supermarket_Wednesday    0.032952\n",
       "Supermarket_Monday       0.031710\n",
       "Name: MCC_Weekday, dtype: float64"
      ]
     },
     "execution_count": 40,
     "metadata": {},
     "output_type": "execute_result"
    }
   ],
   "source": [
    "transactions_train['MCC_Weekday'] = transactions_train.apply(\n",
    "    lambda x: x['MCC_group'] + '_' + x['Weekday'] if x['MCC_group'] == 'Supermarket' else 'Other',\n",
    "    axis = 1\n",
    ")\n",
    "transactions_train.MCC_Weekday.value_counts(normalize = True)"
   ]
  },
  {
   "cell_type": "markdown",
   "metadata": {},
   "source": [
    "### Составляем итоговый датафрейм"
   ]
  },
  {
   "cell_type": "code",
   "execution_count": 41,
   "metadata": {},
   "outputs": [
    {
     "data": {
      "text/html": [
       "<div>\n",
       "<style scoped>\n",
       "    .dataframe tbody tr th:only-of-type {\n",
       "        vertical-align: middle;\n",
       "    }\n",
       "\n",
       "    .dataframe tbody tr th {\n",
       "        vertical-align: top;\n",
       "    }\n",
       "\n",
       "    .dataframe thead th {\n",
       "        text-align: right;\n",
       "    }\n",
       "</style>\n",
       "<table border=\"1\" class=\"dataframe\">\n",
       "  <thead>\n",
       "    <tr style=\"text-align: right;\">\n",
       "      <th></th>\n",
       "      <th>PERIOD</th>\n",
       "      <th>cl_id</th>\n",
       "      <th>MCC</th>\n",
       "      <th>channel_type</th>\n",
       "      <th>currency</th>\n",
       "      <th>TRDATETIME</th>\n",
       "      <th>amount</th>\n",
       "      <th>trx_category</th>\n",
       "      <th>target_flag</th>\n",
       "      <th>target_sum</th>\n",
       "      <th>MCC_group</th>\n",
       "      <th>Hour</th>\n",
       "      <th>Period</th>\n",
       "      <th>Weekday</th>\n",
       "      <th>WeekTime</th>\n",
       "      <th>MCC_trx</th>\n",
       "      <th>MCC_Weekday</th>\n",
       "    </tr>\n",
       "  </thead>\n",
       "  <tbody>\n",
       "    <tr>\n",
       "      <th>5</th>\n",
       "      <td>01/10/2017</td>\n",
       "      <td>1</td>\n",
       "      <td>5814</td>\n",
       "      <td>NaN</td>\n",
       "      <td>810</td>\n",
       "      <td>16OCT17:00:00:00</td>\n",
       "      <td>380.0</td>\n",
       "      <td>POS</td>\n",
       "      <td>0</td>\n",
       "      <td>0.0</td>\n",
       "      <td>Fastfood</td>\n",
       "      <td>0</td>\n",
       "      <td>Not Available</td>\n",
       "      <td>Monday</td>\n",
       "      <td>Other_time</td>\n",
       "      <td>Other</td>\n",
       "      <td>Other</td>\n",
       "    </tr>\n",
       "    <tr>\n",
       "      <th>6</th>\n",
       "      <td>01/10/2017</td>\n",
       "      <td>1</td>\n",
       "      <td>5814</td>\n",
       "      <td>NaN</td>\n",
       "      <td>810</td>\n",
       "      <td>10OCT17:00:00:00</td>\n",
       "      <td>378.0</td>\n",
       "      <td>POS</td>\n",
       "      <td>0</td>\n",
       "      <td>0.0</td>\n",
       "      <td>Fastfood</td>\n",
       "      <td>0</td>\n",
       "      <td>Not Available</td>\n",
       "      <td>Tuesday</td>\n",
       "      <td>Other_time</td>\n",
       "      <td>Other</td>\n",
       "      <td>Other</td>\n",
       "    </tr>\n",
       "    <tr>\n",
       "      <th>7</th>\n",
       "      <td>01/10/2017</td>\n",
       "      <td>1</td>\n",
       "      <td>5814</td>\n",
       "      <td>NaN</td>\n",
       "      <td>810</td>\n",
       "      <td>16OCT17:00:00:00</td>\n",
       "      <td>199.0</td>\n",
       "      <td>POS</td>\n",
       "      <td>0</td>\n",
       "      <td>0.0</td>\n",
       "      <td>Fastfood</td>\n",
       "      <td>0</td>\n",
       "      <td>Not Available</td>\n",
       "      <td>Monday</td>\n",
       "      <td>Other_time</td>\n",
       "      <td>Other</td>\n",
       "      <td>Other</td>\n",
       "    </tr>\n",
       "    <tr>\n",
       "      <th>8</th>\n",
       "      <td>01/10/2017</td>\n",
       "      <td>1</td>\n",
       "      <td>5814</td>\n",
       "      <td>NaN</td>\n",
       "      <td>810</td>\n",
       "      <td>11OCT17:00:00:00</td>\n",
       "      <td>400.0</td>\n",
       "      <td>POS</td>\n",
       "      <td>0</td>\n",
       "      <td>0.0</td>\n",
       "      <td>Fastfood</td>\n",
       "      <td>0</td>\n",
       "      <td>Not Available</td>\n",
       "      <td>Wednesday</td>\n",
       "      <td>Other_time</td>\n",
       "      <td>Other</td>\n",
       "      <td>Other</td>\n",
       "    </tr>\n",
       "    <tr>\n",
       "      <th>9</th>\n",
       "      <td>01/07/2017</td>\n",
       "      <td>1</td>\n",
       "      <td>5411</td>\n",
       "      <td>NaN</td>\n",
       "      <td>810</td>\n",
       "      <td>26JUL17:00:00:00</td>\n",
       "      <td>598.0</td>\n",
       "      <td>POS</td>\n",
       "      <td>0</td>\n",
       "      <td>0.0</td>\n",
       "      <td>Supermarket</td>\n",
       "      <td>0</td>\n",
       "      <td>Not Available</td>\n",
       "      <td>Wednesday</td>\n",
       "      <td>Other_time</td>\n",
       "      <td>Other</td>\n",
       "      <td>Supermarket_Wednesday</td>\n",
       "    </tr>\n",
       "  </tbody>\n",
       "</table>\n",
       "</div>"
      ],
      "text/plain": [
       "       PERIOD  cl_id   MCC channel_type  currency        TRDATETIME  amount  \\\n",
       "5  01/10/2017      1  5814          NaN       810  16OCT17:00:00:00   380.0   \n",
       "6  01/10/2017      1  5814          NaN       810  10OCT17:00:00:00   378.0   \n",
       "7  01/10/2017      1  5814          NaN       810  16OCT17:00:00:00   199.0   \n",
       "8  01/10/2017      1  5814          NaN       810  11OCT17:00:00:00   400.0   \n",
       "9  01/07/2017      1  5411          NaN       810  26JUL17:00:00:00   598.0   \n",
       "\n",
       "  trx_category  target_flag  target_sum    MCC_group  Hour         Period  \\\n",
       "5          POS            0         0.0     Fastfood     0  Not Available   \n",
       "6          POS            0         0.0     Fastfood     0  Not Available   \n",
       "7          POS            0         0.0     Fastfood     0  Not Available   \n",
       "8          POS            0         0.0     Fastfood     0  Not Available   \n",
       "9          POS            0         0.0  Supermarket     0  Not Available   \n",
       "\n",
       "     Weekday    WeekTime MCC_trx            MCC_Weekday  \n",
       "5     Monday  Other_time   Other                  Other  \n",
       "6    Tuesday  Other_time   Other                  Other  \n",
       "7     Monday  Other_time   Other                  Other  \n",
       "8  Wednesday  Other_time   Other                  Other  \n",
       "9  Wednesday  Other_time   Other  Supermarket_Wednesday  "
      ]
     },
     "execution_count": 41,
     "metadata": {},
     "output_type": "execute_result"
    }
   ],
   "source": [
    "transactions_train.head()"
   ]
  },
  {
   "cell_type": "code",
   "execution_count": 113,
   "metadata": {},
   "outputs": [],
   "source": [
    "def get_aggregated_df(df, agg_type, col_to_groupby):\n",
    "    agg_df = df[['cl_id', col_to_groupby, 'amount']].groupby(['cl_id', col_to_groupby]).agg([agg_type])\n",
    "    agg_df = agg_df.unstack(fill_value=0)\n",
    "    agg_df.columns = agg_df.columns.get_level_values(2)\n",
    "\n",
    "    old_name = agg_df.columns.name\n",
    "    old_cols = agg_df.columns\n",
    "    new_cols = [old_name + '_' + agg_type + '_' + str(old_col) for old_col in old_cols]\n",
    "    agg_df.rename(\n",
    "        columns={old_col: new_col for old_col, new_col in zip(old_cols, new_cols)}, inplace=True\n",
    "    )\n",
    "    return agg_df"
   ]
  },
  {
   "cell_type": "code",
   "execution_count": 174,
   "metadata": {},
   "outputs": [],
   "source": [
    "def agg_data(df, col_list, agg_type_list):\n",
    "    # Делаем общие фичи\n",
    "\n",
    "    agg_df = df[['cl_id', 'amount']].groupby('cl_id').agg(agg_type_list).reset_index()\n",
    "    agg_df.columns = agg_df.columns.get_level_values(1)\n",
    "\n",
    "    old_cols = agg_df.columns\n",
    "    agg_df.rename(\n",
    "        columns = {old_col : 'Total_' + old_col if old_col != '' else 'cl_id' for old_col in old_cols}, \n",
    "        inplace=True\n",
    "    )\n",
    "\n",
    "    \n",
    "    for col in col_list:\n",
    "        for agg_type in agg_type_list:\n",
    "            agg_df = pd.merge(agg_df,\n",
    "                              get_aggregated_df(df, agg_type, col).reset_index(),\n",
    "                              on = 'cl_id'\n",
    "                             )\n",
    "    return agg_df    "
   ]
  },
  {
   "cell_type": "code",
   "execution_count": 176,
   "metadata": {},
   "outputs": [
    {
     "data": {
      "text/html": [
       "<div>\n",
       "<style scoped>\n",
       "    .dataframe tbody tr th:only-of-type {\n",
       "        vertical-align: middle;\n",
       "    }\n",
       "\n",
       "    .dataframe tbody tr th {\n",
       "        vertical-align: top;\n",
       "    }\n",
       "\n",
       "    .dataframe thead th {\n",
       "        text-align: right;\n",
       "    }\n",
       "</style>\n",
       "<table border=\"1\" class=\"dataframe\">\n",
       "  <thead>\n",
       "    <tr style=\"text-align: right;\">\n",
       "      <th></th>\n",
       "      <th>cl_id</th>\n",
       "      <th>Total_count</th>\n",
       "      <th>Total_sum</th>\n",
       "      <th>Total_mean</th>\n",
       "      <th>Total_median</th>\n",
       "      <th>Total_max</th>\n",
       "      <th>MCC_group_count_ATM</th>\n",
       "      <th>MCC_group_count_Fastfood</th>\n",
       "      <th>MCC_group_count_Finance</th>\n",
       "      <th>MCC_group_count_Grocery_store</th>\n",
       "      <th>...</th>\n",
       "      <th>MCC_Weekday_median_Supermarket_Tuesday</th>\n",
       "      <th>MCC_Weekday_median_Supermarket_Wednesday</th>\n",
       "      <th>MCC_Weekday_max_Other</th>\n",
       "      <th>MCC_Weekday_max_Supermarket_Friday</th>\n",
       "      <th>MCC_Weekday_max_Supermarket_Monday</th>\n",
       "      <th>MCC_Weekday_max_Supermarket_Saturday</th>\n",
       "      <th>MCC_Weekday_max_Supermarket_Sunday</th>\n",
       "      <th>MCC_Weekday_max_Supermarket_Thursday</th>\n",
       "      <th>MCC_Weekday_max_Supermarket_Tuesday</th>\n",
       "      <th>MCC_Weekday_max_Supermarket_Wednesday</th>\n",
       "    </tr>\n",
       "  </thead>\n",
       "  <tbody>\n",
       "    <tr>\n",
       "      <th>0</th>\n",
       "      <td>1</td>\n",
       "      <td>104</td>\n",
       "      <td>267578.04</td>\n",
       "      <td>2572.865769</td>\n",
       "      <td>300.00</td>\n",
       "      <td>60000.00</td>\n",
       "      <td>3</td>\n",
       "      <td>41</td>\n",
       "      <td>0</td>\n",
       "      <td>2</td>\n",
       "      <td>...</td>\n",
       "      <td>88.00</td>\n",
       "      <td>240.00</td>\n",
       "      <td>60000.00</td>\n",
       "      <td>9575.94</td>\n",
       "      <td>0.00</td>\n",
       "      <td>29.29</td>\n",
       "      <td>0.00</td>\n",
       "      <td>300.00</td>\n",
       "      <td>300.00</td>\n",
       "      <td>598.00</td>\n",
       "    </tr>\n",
       "    <tr>\n",
       "      <th>1</th>\n",
       "      <td>5</td>\n",
       "      <td>142</td>\n",
       "      <td>546369.13</td>\n",
       "      <td>3847.669930</td>\n",
       "      <td>1399.02</td>\n",
       "      <td>56164.05</td>\n",
       "      <td>22</td>\n",
       "      <td>1</td>\n",
       "      <td>8</td>\n",
       "      <td>8</td>\n",
       "      <td>...</td>\n",
       "      <td>518.82</td>\n",
       "      <td>663.18</td>\n",
       "      <td>56164.05</td>\n",
       "      <td>6159.89</td>\n",
       "      <td>1953.79</td>\n",
       "      <td>2361.00</td>\n",
       "      <td>1998.64</td>\n",
       "      <td>4056.41</td>\n",
       "      <td>1256.48</td>\n",
       "      <td>663.18</td>\n",
       "    </tr>\n",
       "    <tr>\n",
       "      <th>2</th>\n",
       "      <td>9</td>\n",
       "      <td>39</td>\n",
       "      <td>849315.09</td>\n",
       "      <td>21777.310000</td>\n",
       "      <td>100.00</td>\n",
       "      <td>117450.00</td>\n",
       "      <td>7</td>\n",
       "      <td>0</td>\n",
       "      <td>3</td>\n",
       "      <td>0</td>\n",
       "      <td>...</td>\n",
       "      <td>39.00</td>\n",
       "      <td>0.00</td>\n",
       "      <td>117450.00</td>\n",
       "      <td>0.00</td>\n",
       "      <td>0.00</td>\n",
       "      <td>0.00</td>\n",
       "      <td>0.00</td>\n",
       "      <td>0.00</td>\n",
       "      <td>39.00</td>\n",
       "      <td>0.00</td>\n",
       "    </tr>\n",
       "    <tr>\n",
       "      <th>3</th>\n",
       "      <td>10</td>\n",
       "      <td>463</td>\n",
       "      <td>1124343.99</td>\n",
       "      <td>2428.388747</td>\n",
       "      <td>325.00</td>\n",
       "      <td>150000.00</td>\n",
       "      <td>66</td>\n",
       "      <td>4</td>\n",
       "      <td>4</td>\n",
       "      <td>30</td>\n",
       "      <td>...</td>\n",
       "      <td>187.95</td>\n",
       "      <td>449.55</td>\n",
       "      <td>150000.00</td>\n",
       "      <td>3979.98</td>\n",
       "      <td>940.00</td>\n",
       "      <td>2443.34</td>\n",
       "      <td>6932.46</td>\n",
       "      <td>951.68</td>\n",
       "      <td>1449.32</td>\n",
       "      <td>1999.00</td>\n",
       "    </tr>\n",
       "    <tr>\n",
       "      <th>4</th>\n",
       "      <td>11</td>\n",
       "      <td>217</td>\n",
       "      <td>427747.14</td>\n",
       "      <td>1971.184977</td>\n",
       "      <td>297.00</td>\n",
       "      <td>60000.00</td>\n",
       "      <td>10</td>\n",
       "      <td>31</td>\n",
       "      <td>0</td>\n",
       "      <td>6</td>\n",
       "      <td>...</td>\n",
       "      <td>452.00</td>\n",
       "      <td>174.00</td>\n",
       "      <td>60000.00</td>\n",
       "      <td>2993.00</td>\n",
       "      <td>951.00</td>\n",
       "      <td>1301.00</td>\n",
       "      <td>1173.00</td>\n",
       "      <td>1210.00</td>\n",
       "      <td>1857.00</td>\n",
       "      <td>1230.00</td>\n",
       "    </tr>\n",
       "  </tbody>\n",
       "</table>\n",
       "<p>5 rows × 191 columns</p>\n",
       "</div>"
      ],
      "text/plain": [
       "   cl_id  Total_count   Total_sum    Total_mean  Total_median  Total_max  \\\n",
       "0      1          104   267578.04   2572.865769        300.00   60000.00   \n",
       "1      5          142   546369.13   3847.669930       1399.02   56164.05   \n",
       "2      9           39   849315.09  21777.310000        100.00  117450.00   \n",
       "3     10          463  1124343.99   2428.388747        325.00  150000.00   \n",
       "4     11          217   427747.14   1971.184977        297.00   60000.00   \n",
       "\n",
       "   MCC_group_count_ATM  MCC_group_count_Fastfood  MCC_group_count_Finance  \\\n",
       "0                    3                        41                        0   \n",
       "1                   22                         1                        8   \n",
       "2                    7                         0                        3   \n",
       "3                   66                         4                        4   \n",
       "4                   10                        31                        0   \n",
       "\n",
       "   MCC_group_count_Grocery_store  ...  MCC_Weekday_median_Supermarket_Tuesday  \\\n",
       "0                              2  ...                                   88.00   \n",
       "1                              8  ...                                  518.82   \n",
       "2                              0  ...                                   39.00   \n",
       "3                             30  ...                                  187.95   \n",
       "4                              6  ...                                  452.00   \n",
       "\n",
       "   MCC_Weekday_median_Supermarket_Wednesday  MCC_Weekday_max_Other  \\\n",
       "0                                    240.00               60000.00   \n",
       "1                                    663.18               56164.05   \n",
       "2                                      0.00              117450.00   \n",
       "3                                    449.55              150000.00   \n",
       "4                                    174.00               60000.00   \n",
       "\n",
       "   MCC_Weekday_max_Supermarket_Friday  MCC_Weekday_max_Supermarket_Monday  \\\n",
       "0                             9575.94                                0.00   \n",
       "1                             6159.89                             1953.79   \n",
       "2                                0.00                                0.00   \n",
       "3                             3979.98                              940.00   \n",
       "4                             2993.00                              951.00   \n",
       "\n",
       "   MCC_Weekday_max_Supermarket_Saturday  MCC_Weekday_max_Supermarket_Sunday  \\\n",
       "0                                 29.29                                0.00   \n",
       "1                               2361.00                             1998.64   \n",
       "2                                  0.00                                0.00   \n",
       "3                               2443.34                             6932.46   \n",
       "4                               1301.00                             1173.00   \n",
       "\n",
       "   MCC_Weekday_max_Supermarket_Thursday  MCC_Weekday_max_Supermarket_Tuesday  \\\n",
       "0                                300.00                               300.00   \n",
       "1                               4056.41                              1256.48   \n",
       "2                                  0.00                                39.00   \n",
       "3                                951.68                              1449.32   \n",
       "4                               1210.00                              1857.00   \n",
       "\n",
       "   MCC_Weekday_max_Supermarket_Wednesday  \n",
       "0                                 598.00  \n",
       "1                                 663.18  \n",
       "2                                   0.00  \n",
       "3                                1999.00  \n",
       "4                                1230.00  \n",
       "\n",
       "[5 rows x 191 columns]"
      ]
     },
     "execution_count": 176,
     "metadata": {},
     "output_type": "execute_result"
    }
   ],
   "source": [
    "# Создаем тренировочный датасет\n",
    "train_dataset = agg_data(transactions_train, \n",
    "                         ['MCC_group', 'Period', 'Weekday', 'WeekTime', 'MCC_trx', 'MCC_Weekday'], \n",
    "                         ['count', 'sum', 'mean', 'median', 'max']\n",
    "                        )\n",
    "train_dataset.head()"
   ]
  },
  {
   "cell_type": "code",
   "execution_count": 177,
   "metadata": {},
   "outputs": [
    {
     "name": "stdout",
     "output_type": "stream",
     "text": [
      "<class 'pandas.core.frame.DataFrame'>\n",
      "Int64Index: 3999 entries, 0 to 3998\n",
      "Columns: 191 entries, cl_id to MCC_Weekday_max_Supermarket_Wednesday\n",
      "dtypes: float64(152), int64(39)\n",
      "memory usage: 5.9 MB\n"
     ]
    }
   ],
   "source": [
    "train_dataset.info()"
   ]
  },
  {
   "cell_type": "code",
   "execution_count": null,
   "metadata": {},
   "outputs": [],
   "source": []
  }
 ],
 "metadata": {
  "kernelspec": {
   "display_name": "Python 3",
   "language": "python",
   "name": "python3"
  },
  "language_info": {
   "codemirror_mode": {
    "name": "ipython",
    "version": 3
   },
   "file_extension": ".py",
   "mimetype": "text/x-python",
   "name": "python",
   "nbconvert_exporter": "python",
   "pygments_lexer": "ipython3",
   "version": "3.6.8"
  }
 },
 "nbformat": 4,
 "nbformat_minor": 2
}
